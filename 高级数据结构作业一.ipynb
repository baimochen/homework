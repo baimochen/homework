{
  "nbformat": 4,
  "nbformat_minor": 0,
  "metadata": {
    "colab": {
      "provenance": [],
      "authorship_tag": "ABX9TyMG2tqx1epEm5RCAOe1RhjN",
      "include_colab_link": true
    },
    "kernelspec": {
      "name": "python3",
      "display_name": "Python 3"
    },
    "language_info": {
      "name": "python"
    }
  },
  "cells": [
    {
      "cell_type": "markdown",
      "metadata": {
        "id": "view-in-github",
        "colab_type": "text"
      },
      "source": [
        "<a href=\"https://colab.research.google.com/github/baimochen/homework/blob/main/%E9%AB%98%E7%BA%A7%E6%95%B0%E6%8D%AE%E7%BB%93%E6%9E%84%E4%BD%9C%E4%B8%9A%E4%B8%80.ipynb\" target=\"_parent\"><img src=\"https://colab.research.google.com/assets/colab-badge.svg\" alt=\"Open In Colab\"/></a>"
      ]
    },
    {
      "cell_type": "markdown",
      "source": [
        "1.多项式求和"
      ],
      "metadata": {
        "id": "xC6JhCPh4HE6"
      }
    },
    {
      "cell_type": "code",
      "execution_count": null,
      "metadata": {
        "colab": {
          "base_uri": "https://localhost:8080/"
        },
        "id": "PsdddNWLwpCS",
        "outputId": "48ab2d2b-7a6c-4515-c1df-e0a78a25f891"
      },
      "outputs": [
        {
          "output_type": "stream",
          "name": "stdout",
          "text": [
            "{1000: 2, 0: 2, 4: 1, 3: 10, 2: 3}\n",
            "2x^1000 + 2x^0 + 1x^4 + 10x^3 + 3x^2 + \n",
            "2x^1000 + 2x^0 + 1x^4 + 10x^3 + 3x^2\n"
          ]
        }
      ],
      "source": [
        "def add(a,b):\n",
        "# 定义函数add用来处理多项式相加，接收两个多项式形参啊a，b\n",
        "  sum = {}\n",
        "  # 定义空字典用来存放多项式计算结果\n",
        "  for zhishu,xishu in a.items():\n",
        "  # 用循环遍历形参字典a中的所有元素\n",
        "    sum[zhishu] = xishu\n",
        "  # 将所有的元素添加到字典sum中\n",
        "  for zhishu,xishu in b.items():\n",
        "  # 用循环遍历形参字典b中的所有元素\n",
        "    if zhishu in sum:\n",
        "    # 如果形参字典b中的键（指数）存在于字典sum中\n",
        "      sum[zhishu] += xishu\n",
        "      # 则将sum字典中的对应值（系数）相加\n",
        "    else:\n",
        "    # 如果不存在\n",
        "      sum[zhishu] = xishu\n",
        "      # 则直接在字典sum中创建新的键值对（多项式中的一项）\n",
        "  return sum\n",
        "\n",
        "a = {1000: 2, 0: 1}\n",
        "# 2x^1000 + 1\n",
        "b = {4: 1, 3: 10, 2: 3, 0: 1}\n",
        "# x^4 + 10x^3 + 3x^2 + 1\n",
        "\n",
        "sum = add(a, b)\n",
        "print(sum)\n",
        "# 输出结果\n",
        "\n",
        "# 尝试格式化输出\n",
        "for zhishu,xishu in sum.items():\n",
        "  print(str(xishu)+'x^'+str(zhishu),end=' + ')\n",
        "# 多个加号，换种方式输出\n",
        "print()\n",
        "\n",
        "strsum = []\n",
        "# 先把所有的项存到一个列表里\n",
        "for zhishu, xishu in sum.items():\n",
        "    strsum.append(str(xishu) + 'x^' + str(zhishu))\n",
        "\n",
        "# 用 \" + \" 连接这些项\n",
        "new_strsum = \" + \".join(strsum)\n",
        "\n",
        "print(new_strsum)\n",
        "# 完成了！"
      ]
    },
    {
      "cell_type": "markdown",
      "source": [
        "2.稀疏矩阵的转置"
      ],
      "metadata": {
        "id": "49IYS-rf4PKH"
      }
    },
    {
      "cell_type": "code",
      "source": [
        "def sanyuan_zhuanzhi(a):\n",
        "# 定义一个转置的函数sanyuan_zhuanzhi，用来转制三元矩阵\n",
        "    ok_a = [(col, row, value) for row, col, value in a]\n",
        "    # 直接读取列表中的值，交换col和row的位置，完成转置\n",
        "    return ok_a\n",
        "\n",
        "a = [\n",
        "    (0, 0, 15),\n",
        "    (0, 3, 22),\n",
        "    (0, 5, -15)\n",
        "]\n",
        "print(\"原矩阵：\")\n",
        "for i in a:\n",
        "  print (i)\n",
        "print(\"转制后矩阵：\")\n",
        "for i in sanyuan_zhuanzhi(a):\n",
        "    print(i)\n",
        "# 应该符合题意吧"
      ],
      "metadata": {
        "colab": {
          "base_uri": "https://localhost:8080/"
        },
        "id": "ULW-0bU8yajk",
        "outputId": "401c4795-f625-4b49-fd5f-18b72cbf6241"
      },
      "execution_count": null,
      "outputs": [
        {
          "output_type": "stream",
          "name": "stdout",
          "text": [
            "原矩阵：\n",
            "(0, 0, 15)\n",
            "(0, 3, 22)\n",
            "(0, 5, -15)\n",
            "转制后矩阵：\n",
            "(0, 0, 15)\n",
            "(3, 0, 22)\n",
            "(5, 0, -15)\n"
          ]
        }
      ]
    },
    {
      "cell_type": "markdown",
      "source": [
        "3.实现KMP算法。"
      ],
      "metadata": {
        "id": "FH4kBV697jYY"
      }
    },
    {
      "cell_type": "code",
      "source": [
        "def lpss(b):\n",
        "# 生命一个函数lps对模式串的前缀函数进行计算\n",
        "    m = len(b)\n",
        "    # 首先我们先模式串的长度\n",
        "    lps = [0] * m\n",
        "    # 创建一个大小为和模式串相等的LPS数组，记录每个位置的最长前缀后缀匹配长度，填充为0。\n",
        "    length = 0\n",
        "    # 初始化当前匹配的前缀长度\n",
        "    i = 1\n",
        "    # 从模式串的第二个字符开始计算（第一个字符的LPS值为0）\n",
        "\n",
        "\n",
        "    while i < m:\n",
        "    # 遍历模式串，计算每个位置的前缀函数\n",
        "        if b[i] == b[length]:\n",
        "        # 如果当前字符匹配\n",
        "            length += 1\n",
        "            # 增加前缀长度\n",
        "            lps[i] = length\n",
        "            # 将当前字符的前缀长度存入LPS数组\n",
        "            i += 1\n",
        "            # 继续遍历下一个字符\n",
        "        else:\n",
        "            if length != 0:\n",
        "            # 如果当前前缀长度不为0，回退到前一个前缀的长度位置\n",
        "                length = lps[length - 1]\n",
        "                # 使用前一个前缀的值来回退\n",
        "            else:\n",
        "                lps[i] = 0\n",
        "                # 如果前缀长度为0，说明无法匹配\n",
        "                i += 1\n",
        "                # 继续遍历下一个字符\n",
        "\n",
        "    return lps  # 返回LPS数组\n",
        "\n",
        "# KMP算法的主函数，执行字符串匹配\n",
        "def kmp(a, b):\n",
        "    ok = 0\n",
        "    n = len(a)\n",
        "    # 文本串的长度\n",
        "    m = len(b)\n",
        "    # 模式串的长度\n",
        "\n",
        "    # 计算模式串的前缀函数（LPS数组）\n",
        "    lps = lpss(b)\n",
        "\n",
        "    i = 0\n",
        "    # 文本串的指针\n",
        "    j = 0\n",
        "    # 模式串的指针\n",
        "\n",
        "\n",
        "    while i < n:\n",
        "      # 开始遍历文本串\n",
        "        if a[i] == b[j]:\n",
        "          # 如果当前字符匹配\n",
        "            i += 1\n",
        "            # 文本串指针后移\n",
        "            j += 1\n",
        "            # 模式串指针后移\n",
        "\n",
        "        if j == m:\n",
        "          # 如果模式串指针和模式串长度相等，就说明完全匹配\n",
        "            ok = 1\n",
        "            # 只要有成功的就把flag置1\n",
        "            print(i,'-',j)\n",
        "            # 输出匹配的起始位置\n",
        "            j = lps[j - 1]\n",
        "            # 根据LPS数组回退模式串指针到上一个可能匹配的地方\n",
        "        elif i < n and a[i] != b[j]:\n",
        "          # 如果当前字符不匹配\n",
        "            if j != 0:\n",
        "              # 如果模式串指针不为0，则通过LPS数组回退\n",
        "                j = lps[j - 1]\n",
        "                # 根据前缀函数回退\n",
        "            else:\n",
        "                i += 1\n",
        "                # 如果模式串指针为0，文本串指针后移一位，继续检查下一个字符\n",
        "    else:\n",
        "      if ok == 0:\n",
        "        print(\"未找到匹配\")\n",
        "# 示例用法\n",
        "a = \"ABABDABACDABABCABAB\"\n",
        "# 待匹配的文本串\n",
        "b = \"ABABCABAB\"\n",
        "c = \"ooooo\"\n",
        "# 要查找的模式串\n",
        "kmp(a, b)\n",
        "# 调用KMP算法进行匹配\n",
        "\n",
        "# 看着网课一点一点敲出来的，有点难\n",
        "\n"
      ],
      "metadata": {
        "colab": {
          "base_uri": "https://localhost:8080/"
        },
        "id": "5gQJi-gS5nGh",
        "outputId": "eb75bc00-3183-47cd-9e27-4963e3dc7738"
      },
      "execution_count": null,
      "outputs": [
        {
          "output_type": "stream",
          "name": "stdout",
          "text": [
            "19 - 9\n"
          ]
        }
      ]
    },
    {
      "cell_type": "markdown",
      "source": [
        "4.多项式的乘法"
      ],
      "metadata": {
        "id": "docISfyUNReJ"
      }
    },
    {
      "cell_type": "code",
      "source": [
        "def chengfa(a, b):\n",
        "\n",
        "    sum = {}  # 存储乘积多项式的系数\n",
        "\n",
        "    # 遍历第一个多项式的每一项\n",
        "    for a1, b1 in a.items():\n",
        "        # 遍历第二个多项式的每一项\n",
        "        for a2, b2 in b.items():\n",
        "            aa = a1 + a2\n",
        "            # 指数相加\n",
        "            bb = b1 * b2\n",
        "            # 系数相乘\n",
        "\n",
        "            if aa in sum:\n",
        "                sum[aa] += bb\n",
        "            else:\n",
        "                sum[aa] = bb\n",
        "            # 将计算得到的项累加到结果多项式中\n",
        "            # 和题目1差不多这里\n",
        "    return sum\n",
        "\n",
        "\n",
        "a = {1000: 2, 0: 1}\n",
        "# 代表多项式 2x^1000 + 1\n",
        "b = {4: 1, 3: 10, 2: 3, 0: 1}\n",
        " # 代表多项式 x^4 + 10x^3 + 3x^2 + 1\n",
        "\n",
        "# 计算两个多项式的乘积\n",
        "sum = chengfa(poly1, poly2)\n",
        "\n",
        "# 打印结果，格式化输出\n",
        "print(sum)\n",
        "#从第一次直接复制一个格式化输出\n",
        "strsum = []\n",
        "# 先把所有的项存到一个列表里\n",
        "for zhishu, xishu in sum.items():\n",
        "    strsum.append(str(xishu) + 'x^' + str(zhishu))\n",
        "\n",
        "# 用 \" + \" 连接这些项\n",
        "new_strsum = \" + \".join(strsum)\n",
        "\n",
        "print(new_strsum)\n",
        "# 完成了！"
      ],
      "metadata": {
        "colab": {
          "base_uri": "https://localhost:8080/"
        },
        "id": "0XJLzNp5LX3F",
        "outputId": "5c4d51f2-0357-498f-fc30-b6f93769e6aa"
      },
      "execution_count": null,
      "outputs": [
        {
          "output_type": "stream",
          "name": "stdout",
          "text": [
            "{1004: 2, 1003: 20, 1002: 6, 1000: 2, 4: 1, 3: 10, 2: 3, 0: 1}\n",
            "2x^1004 + 20x^1003 + 6x^1002 + 2x^1000 + 1x^4 + 10x^3 + 3x^2 + 1x^0\n"
          ]
        }
      ]
    },
    {
      "cell_type": "code",
      "source": [],
      "metadata": {
        "id": "0W6x4nEiOGHQ"
      },
      "execution_count": null,
      "outputs": []
    }
  ]
}